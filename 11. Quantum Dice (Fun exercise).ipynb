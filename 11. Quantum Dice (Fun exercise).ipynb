{
 "cells": [
  {
   "cell_type": "markdown",
   "metadata": {},
   "source": [
    "# 1.Importing packages"
   ]
  },
  {
   "cell_type": "code",
   "execution_count": 2,
   "metadata": {},
   "outputs": [],
   "source": [
    "from qiskit import *"
   ]
  },
  {
   "cell_type": "markdown",
   "metadata": {},
   "source": [
    "# 2. Building circuit \n",
    "\n",
    "Applying Hadamard gates on each qubit so that each bit has equal prob. of being measured as |0> or |1>. Since their is no manual injection of any seed ,or any varying function of generating the seed , it is a true random number generator (when run on the real QC)."
   ]
  },
  {
   "cell_type": "code",
   "execution_count": 45,
   "metadata": {},
   "outputs": [],
   "source": [
    "def q_randCirc(n):\n",
    "    qc=QuantumCircuit(n)\n",
    "    for qubit in range(n):\n",
    "        qc.h(qubit)\n",
    "    qc.measure_all()\n",
    "    qc.draw(\"mpl\")\n",
    "    return qc\n",
    "\n",
    "def q_randNum(qc):\n",
    "    backend=Aer.get_backend('qasm_simulator')\n",
    "    result=execute(qc,backend=backend,shots=1).result()\n",
    "    num=result.get_counts().keys()\n",
    "    #print(num)\n",
    "    return num"
   ]
  },
  {
   "cell_type": "markdown",
   "metadata": {},
   "source": [
    "# 3. Generating our Random Number"
   ]
  },
  {
   "cell_type": "code",
   "execution_count": 60,
   "metadata": {},
   "outputs": [
    {
     "name": "stdout",
     "output_type": "stream",
     "text": [
      "Quantum Random Number 20\n"
     ]
    }
   ],
   "source": [
    "n=5\n",
    "qc=q_randCirc(n)\n",
    "#qc.draw('mpl')\n",
    "num=q_randNum(qc)\n",
    "for i in num:\n",
    "    r_num=i\n",
    "#print(r_num)\n",
    "print(\"Quantum Random Number\",int(r_num,2))"
   ]
  },
  {
   "cell_type": "markdown",
   "metadata": {},
   "source": [
    "Executing this cell will give a random number between 0 and $2^n$-1 each time."
   ]
  }
 ],
 "metadata": {
  "kernelspec": {
   "display_name": "Python 3",
   "language": "python",
   "name": "python3"
  },
  "language_info": {
   "codemirror_mode": {
    "name": "ipython",
    "version": 3
   },
   "file_extension": ".py",
   "mimetype": "text/x-python",
   "name": "python",
   "nbconvert_exporter": "python",
   "pygments_lexer": "ipython3",
   "version": "3.7.7"
  }
 },
 "nbformat": 4,
 "nbformat_minor": 4
}
