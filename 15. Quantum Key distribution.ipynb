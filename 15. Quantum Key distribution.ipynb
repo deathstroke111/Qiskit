{
 "cells": [
  {
   "cell_type": "markdown",
   "metadata": {},
   "source": [
    "# 1. Importing Packages"
   ]
  },
  {
   "cell_type": "code",
   "execution_count": 1,
   "metadata": {},
   "outputs": [
    {
     "name": "stdout",
     "output_type": "stream",
     "text": [
      "imports successful\n"
     ]
    }
   ],
   "source": [
    "from qiskit import *\n",
    "from qiskit.visualization import plot_histogram,plot_bloch_multivector\n",
    "from numpy.random import randint\n",
    "import numpy as np\n",
    "print(\"imports successful\")"
   ]
  },
  {
   "cell_type": "markdown",
   "metadata": {},
   "source": [
    "# 2. Background\n",
    "<!---defining ket notation for redering--->\n",
    " $\\newcommand{\\ket}[1]{\\left|#1\\right>}$\n",
    " \n",
    "## 2.1 Intuition\n",
    "\n",
    "Here our aim is to send the key from Alice(A) to Bob(B) secretly while making sure tha it is not intercepted by somebody else(i.e. Eve(E)) on the way from A to B.\n",
    "\n",
    "\n",
    "In other words if the key is intercepted/deciphered by Eve it should be notified so asto prevent the use of leaked key.\n",
    "\n",
    "This is precisely what Quantum Key distribution(formaly known as BB84 algorithm) does.\n",
    "\n",
    "## 2.2 Actual process\n",
    "\n",
    "     1. We choose a random key in binary 0101\n",
    "     2. We choose a random basis to encode this 0s and 1s i.e. $\\ket{+}$ / $\\ket{-}$ or $\\ket{0}$ / $\\ket{1}$ basis\n",
    "     3. Bob then measures these qubit in his own random basis\n",
    "     4. Thus he obtains his sequence of 0s and 1s \n",
    "     5. Both Bob and Alice relase their measuring bases and only the common ones are kept \n",
    "     6. Finally both Bob and ALice share a random list of 0s and 1s that are common\n",
    "     \n",
    "This is the case if no one was spying on them. If they were being spied upon by Eve then she would measure the qubits before bob could have the chance. This would destroy the superposition and collapse it to 0 or 1 state. Now when bob measures the qubit, which Alice had encoded to be 1 and in X/Z basis, in the same state as alice's i.e. even if their states macth he would now have a 50/50 chance of measuring it as 0 or 1. Post the transaction is complete B sends few of the randomly sampled qubits value to alice to do a check if they are the same. If they are not the same it can be concluded that Eve has gotten hold of these set of keys and it would then be discarded.  \n",
    "\n",
    "For more details : <a href=\"https://qiskit.org/textbook/ch-algorithms/quantum-key-distribution.html#3.-Qiskit-Example:-Without-Interception\" > link </a>"
   ]
  },
  {
   "cell_type": "markdown",
   "metadata": {},
   "source": [
    "# 3. Implementation without interference\n",
    "\n",
    "## 3.1 Alice's side"
   ]
  },
  {
   "cell_type": "code",
   "execution_count": 35,
   "metadata": {},
   "outputs": [],
   "source": [
    "np.random.seed(seed=0)\n",
    "n=100\n",
    "\n",
    "# step 1 generate bits\n",
    "alice_bits=randint(2,size=n)\n",
    "\n",
    "# Step 2 select basis\n",
    "alice_bases=randint(2,size=n)\n"
   ]
  },
  {
   "cell_type": "code",
   "execution_count": 36,
   "metadata": {},
   "outputs": [],
   "source": [
    "def encode_msg(bits,bases):\n",
    "    msg=[]\n",
    "    for i in range(n):\n",
    "        qc=QuantumCircuit(1,1)\n",
    "        if bases[i]==0:\n",
    "            if bits[i]==0:\n",
    "                pass\n",
    "            else:\n",
    "                qc.x(0)\n",
    "        else:\n",
    "            if bits[i]==0:\n",
    "                qc.h(0)\n",
    "            else:\n",
    "                qc.x(0)\n",
    "                qc.h(0)\n",
    "        qc.barrier()\n",
    "        msg.append(qc)\n",
    "    return msg"
   ]
  },
  {
   "cell_type": "code",
   "execution_count": 37,
   "metadata": {},
   "outputs": [],
   "source": [
    "msg=encode_msg(alice_bits,alice_bases)"
   ]
  },
  {
   "cell_type": "markdown",
   "metadata": {},
   "source": [
    "## 3.2 Bob's side"
   ]
  },
  {
   "cell_type": "code",
   "execution_count": 38,
   "metadata": {},
   "outputs": [],
   "source": [
    "bobs_bases=randint(2,size=n)"
   ]
  },
  {
   "cell_type": "code",
   "execution_count": 39,
   "metadata": {},
   "outputs": [],
   "source": [
    "def decode_msg(msg,bases):\n",
    "    backend=Aer.get_backend('qasm_simulator')\n",
    "    meas=[]\n",
    "    for i in range(n):\n",
    "        if bases[i]==0:\n",
    "            msg[i].measure(0,0)\n",
    "        elif bases[i]==1:\n",
    "            msg[i].h(0)\n",
    "            msg[i].measure(0,0)\n",
    "        result=execute(msg[i],backend=backend,shots=1,memory=True).result()\n",
    "        meas.append(int(result.get_memory()[0]))\n",
    "    return meas"
   ]
  },
  {
   "cell_type": "code",
   "execution_count": 40,
   "metadata": {},
   "outputs": [],
   "source": [
    "bob_res=decode_msg(msg,bobs_bases)"
   ]
  },
  {
   "cell_type": "markdown",
   "metadata": {},
   "source": [
    "## 3.3 Correcting the alice's key based on bob's bases "
   ]
  },
  {
   "cell_type": "code",
   "execution_count": 41,
   "metadata": {},
   "outputs": [],
   "source": [
    "def remove_garbage(a_bases,b_bases,bits):\n",
    "    good_bits=[]\n",
    "    for i in range(n):\n",
    "        if a_bases[i]==b_bases[i]:\n",
    "            good_bits.append(bits[i])\n",
    "    return good_bits"
   ]
  },
  {
   "cell_type": "code",
   "execution_count": 42,
   "metadata": {},
   "outputs": [
    {
     "name": "stdout",
     "output_type": "stream",
     "text": [
      "48\n"
     ]
    }
   ],
   "source": [
    "a_key= remove_garbage(alice_bases,bobs_bases,alice_bits)\n",
    "print(len(a_key))"
   ]
  },
  {
   "cell_type": "code",
   "execution_count": 43,
   "metadata": {},
   "outputs": [
    {
     "name": "stdout",
     "output_type": "stream",
     "text": [
      "48\n"
     ]
    }
   ],
   "source": [
    "b_key= remove_garbage(alice_bases,bobs_bases,bob_res)\n",
    "print(len(b_key))"
   ]
  },
  {
   "cell_type": "markdown",
   "metadata": {},
   "source": [
    "## 3.4 Random sampling to chceck the interference"
   ]
  },
  {
   "cell_type": "code",
   "execution_count": 44,
   "metadata": {},
   "outputs": [],
   "source": [
    "def sample_bits(bits, selection):\n",
    "    sample = []\n",
    "    for i in selection:\n",
    "        i = np.mod(i, len(bits))\n",
    "        sample.append(bits.pop(i))\n",
    "    return sample"
   ]
  },
  {
   "cell_type": "code",
   "execution_count": 45,
   "metadata": {},
   "outputs": [
    {
     "name": "stdout",
     "output_type": "stream",
     "text": [
      "  Bob_sample = [0, 1, 0, 1, 1, 0, 0, 0, 0, 0, 0, 1, 0, 0, 0]\n",
      "Alice_sample = [0, 1, 0, 1, 1, 0, 0, 0, 0, 0, 0, 1, 0, 0, 0]\n"
     ]
    }
   ],
   "source": [
    "sample_size = 15\n",
    "bit_selection = randint(n, size=sample_size)\n",
    "\n",
    "bob_sample = sample_bits(b_key, bit_selection)\n",
    "print(\"  Bob_sample = \" + str(bob_sample))\n",
    "alice_sample = sample_bits(a_key, bit_selection)\n",
    "print(\"Alice_sample = \"+ str(alice_sample))"
   ]
  },
  {
   "cell_type": "code",
   "execution_count": 46,
   "metadata": {},
   "outputs": [
    {
     "data": {
      "text/plain": [
       "True"
      ]
     },
     "execution_count": 46,
     "metadata": {},
     "output_type": "execute_result"
    }
   ],
   "source": [
    "bob_sample==alice_sample"
   ]
  },
  {
   "cell_type": "code",
   "execution_count": 47,
   "metadata": {},
   "outputs": [
    {
     "name": "stdout",
     "output_type": "stream",
     "text": [
      "Final key length 33\n"
     ]
    }
   ],
   "source": [
    "print(\"Final key length\",len(a_key)) "
   ]
  },
  {
   "cell_type": "markdown",
   "metadata": {},
   "source": [
    "# 4. Implementation with Eve "
   ]
  },
  {
   "cell_type": "code",
   "execution_count": 56,
   "metadata": {},
   "outputs": [],
   "source": [
    "np.random.seed(seed=0)\n",
    "n=100\n",
    "\n",
    "# step 1 generate bits\n",
    "alice_bits=randint(2,size=n)\n",
    "\n",
    "# Step 2 select basis\n",
    "alice_bases=randint(2,size=n)\n",
    "\n",
    "# step 3 send message\n",
    "msg=encode_msg(alice_bits,alice_bases)\n"
   ]
  },
  {
   "cell_type": "code",
   "execution_count": 57,
   "metadata": {},
   "outputs": [
    {
     "name": "stdout",
     "output_type": "stream",
     "text": [
      "[0, 1, 1, 0, 1, 1, 0, 1, 1, 1, 1, 1, 0, 1, 0, 0, 1, 0, 0, 0, 0, 1, 0, 0, 0, 0, 1, 0, 1, 0, 0, 0, 1, 0, 1, 1, 0, 1, 0, 0, 1, 1, 0, 0, 1, 0, 1, 1, 0, 0, 0, 1, 0, 1, 1, 0, 1, 0, 0, 1, 0, 0, 0, 0, 1, 0, 1, 0, 0, 0, 1, 0, 0, 0, 0, 1, 1, 0, 1, 0, 0, 0, 1, 1, 0, 1, 1, 1, 0, 0, 1, 0, 0, 0, 1, 0, 0, 1, 0, 0]\n"
     ]
    }
   ],
   "source": [
    "# Intercepted by Eve\n",
    "eve_bases = randint(2, size=n)\n",
    "intercepted_message = decode_msg(msg, eve_bases)\n",
    "print(intercepted_message)"
   ]
  },
  {
   "cell_type": "code",
   "execution_count": 58,
   "metadata": {},
   "outputs": [
    {
     "data": {
      "image/png": "[encoded data removed]",
      "text/plain": [
       "<Figure size 474.376x144.48 with 1 Axes>"
      ]
     },
     "execution_count": 58,
     "metadata": {},
     "output_type": "execute_result"
    }
   ],
   "source": [
    "#step 4 measured by Bob\n",
    "bob_bases = randint(2, size=n)\n",
    "bob_results = decode_msg(msg, bob_bases)\n",
    "\n",
    "# An example of first case\n",
    "msg[0].draw('mpl')"
   ]
  },
  {
   "cell_type": "code",
   "execution_count": 59,
   "metadata": {},
   "outputs": [],
   "source": [
    "# step 5 Removing garbage\n",
    "bob_key = remove_garbage(alice_bases, bob_bases, bob_results)\n",
    "alice_key = remove_garbage(alice_bases, bob_bases, alice_bits)"
   ]
  },
  {
   "cell_type": "code",
   "execution_count": 60,
   "metadata": {},
   "outputs": [
    {
     "name": "stdout",
     "output_type": "stream",
     "text": [
      "  bob_sample = [1, 0, 0, 0, 0, 0, 0, 1, 0, 0, 0, 1, 1, 0, 0]\n",
      "alice_sample = [0, 0, 0, 1, 0, 1, 0, 1, 1, 1, 0, 1, 0, 0, 1]\n"
     ]
    }
   ],
   "source": [
    "## Step 6 checking with the sample\n",
    "sample_size = 15\n",
    "bit_selection = randint(n, size=sample_size)\n",
    "bob_sample = sample_bits(bob_key, bit_selection)\n",
    "print(\"  bob_sample = \" + str(bob_sample))\n",
    "alice_sample = sample_bits(alice_key, bit_selection)\n",
    "print(\"alice_sample = \"+ str(alice_sample))"
   ]
  },
  {
   "cell_type": "code",
   "execution_count": 61,
   "metadata": {},
   "outputs": [
    {
     "data": {
      "text/plain": [
       "False"
      ]
     },
     "execution_count": 61,
     "metadata": {},
     "output_type": "execute_result"
    }
   ],
   "source": [
    "bob_sample==alice_sample"
   ]
  },
  {
   "cell_type": "markdown",
   "metadata": {},
   "source": [
    "This shows how Eve can be caught "
   ]
  }
 ],
 "metadata": {
  "kernelspec": {
   "display_name": "Python 3",
   "language": "python",
   "name": "python3"
  },
  "language_info": {
   "codemirror_mode": {
    "name": "ipython",
    "version": 3
   },
   "file_extension": ".py",
   "mimetype": "text/x-python",
   "name": "python",
   "nbconvert_exporter": "python",
   "pygments_lexer": "ipython3",
   "version": "3.7.7"
  }
 },
 "nbformat": 4,
 "nbformat_minor": 4
}
