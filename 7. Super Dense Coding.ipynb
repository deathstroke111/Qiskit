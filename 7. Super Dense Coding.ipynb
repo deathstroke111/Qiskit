{
 "cells": [
  {
   "cell_type": "markdown",
   "metadata": {},
   "source": [
    "# 1. Importing packages"
   ]
  },
  {
   "cell_type": "code",
   "execution_count": 1,
   "metadata": {},
   "outputs": [],
   "source": [
    "from qiskit import *\n",
    "from qiskit.tools.visualization import plot_histogram\n",
    "%matplotlib inline"
   ]
  },
  {
   "cell_type": "markdown",
   "metadata": {},
   "source": [
    "# 2. Creating the function to entangle, encode, and decode  our qubits\n",
    "\n",
    "In super dense coding our aim is to send the information of 2 classical bits from Alice to Bob using the transfer of only one qubit. In this we begin with Charlie creating a pair of entangled qubits and sending one each to Alice and Bob.\n",
    "\n",
    "\n",
    "Alice then applies an unitary operation based on which of the values( 00,01,10,11) she ants to send and then sends it to Bob.\n",
    "\n",
    "Bob upon recieving the qubit applies a CNOT gate on recieved qubit(source) and the one he has(target) and gets the information in Z basis(in the source ) onto his target qubit and then proceeds to extract the X basis information by applying an Hadamard gate and measuring it (i.e. changing the X basis information to Z basis and then measuring both the qubits in Z basis)."
   ]
  },
  {
   "cell_type": "code",
   "execution_count": 2,
   "metadata": {},
   "outputs": [],
   "source": [
    "def bell_state(qc,a,b):\n",
    "    qc.h(a)\n",
    "    qc.cx(a,b)\n",
    "    return\n",
    "\n",
    "def alice_encode(qc,a,msg):\n",
    "    if msg=='00':\n",
    "        pass\n",
    "    elif msg=='01':\n",
    "        qc.x(a)\n",
    "    elif msg=='10':\n",
    "        qc.z(a)\n",
    "    elif msg=='11':\n",
    "        qc.x(a)\n",
    "        qc.z(a)\n",
    "    return\n",
    "\n",
    "def bob_decode(qc,a,b):\n",
    "    qc.cx(a,b)\n",
    "    qc.h(a)\n",
    "    return"
   ]
  },
  {
   "cell_type": "markdown",
   "metadata": {},
   "source": [
    "# 3. Testing our super dense coding circuit\n",
    "\n",
    "## 3.1 Making our circuit"
   ]
  },
  {
   "cell_type": "code",
   "execution_count": 3,
   "metadata": {},
   "outputs": [
    {
     "data": {
      "image/png": "[encoded data removed]",
      "text/plain": [
       "<Figure size 780.192x204.68 with 1 Axes>"
      ]
     },
     "execution_count": 3,
     "metadata": {},
     "output_type": "execute_result"
    }
   ],
   "source": [
    "qc=QuantumCircuit(2)\n",
    "\n",
    "msg='01'\n",
    "\n",
    "bell_state(qc,0,1)\n",
    "qc.barrier()\n",
    "alice_encode(qc,0,msg)\n",
    "qc.barrier()\n",
    "bob_decode(qc,0,1)\n",
    "qc.measure_all()\n",
    "\n",
    "qc.draw('mpl')"
   ]
  },
  {
   "cell_type": "markdown",
   "metadata": {},
   "source": [
    "## 3.2 Running on Backend"
   ]
  },
  {
   "cell_type": "code",
   "execution_count": 4,
   "metadata": {},
   "outputs": [
    {
     "name": "stdout",
     "output_type": "stream",
     "text": [
      "{'10': 1024}\n"
     ]
    }
   ],
   "source": [
    "backend=Aer.get_backend('qasm_simulator')\n",
    "results= execute(qc,backend=backend,shots=1024).result()\n",
    "print(results.get_counts(qc))"
   ]
  },
  {
   "cell_type": "markdown",
   "metadata": {},
   "source": [
    "We get the same result as we encoded previously in our circuit. But due to Qiskit's representation we get the reversed representation of the qubits states."
   ]
  },
  {
   "cell_type": "markdown",
   "metadata": {},
   "source": [
    "## 3.3 Visualizaing the output"
   ]
  },
  {
   "cell_type": "code",
   "execution_count": 5,
   "metadata": {},
   "outputs": [
    {
     "data": {
      "image/png": "[encoded data removed]",
      "text/plain": [
       "<Figure size 504x360 with 1 Axes>"
      ]
     },
     "execution_count": 5,
     "metadata": {},
     "output_type": "execute_result"
    }
   ],
   "source": [
    "plot_histogram(results.get_counts(qc))"
   ]
  }
 ],
 "metadata": {
  "kernelspec": {
   "display_name": "Python 3",
   "language": "python",
   "name": "python3"
  },
  "language_info": {
   "codemirror_mode": {
    "name": "ipython",
    "version": 3
   },
   "file_extension": ".py",
   "mimetype": "text/x-python",
   "name": "python",
   "nbconvert_exporter": "python",
   "pygments_lexer": "ipython3",
   "version": "3.7.7"
  }
 },
 "nbformat": 4,
 "nbformat_minor": 4
}
